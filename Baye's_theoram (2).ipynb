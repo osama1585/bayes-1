{
 "cells": [
  {
   "cell_type": "markdown",
   "id": "e18ed912-ae40-4001-98ee-7580dc708a84",
   "metadata": {},
   "source": [
    "<span style=color:red;font-size:60px>ASSIGNMENT</span>"
   ]
  },
  {
   "cell_type": "markdown",
   "id": "d8430bd2-4491-4740-af17-74e5fa5bc495",
   "metadata": {},
   "source": [
    "<span style=color:green;font-size:55px>Naive Bayes<span>"
   ]
  },
  {
   "cell_type": "markdown",
   "id": "faa31941-064a-4a60-b74e-291e106de918",
   "metadata": {},
   "source": [
    "### Q1. What is Bayes' theorem?\n",
    "-Ans-- Bayes' theorem is a fundamental theorem in probability theory that describes the probability of an event, based on prior knowledge of conditions that might be related to the event.\n",
    "\n",
    "### Q2. What is the formula for Bayes' theorem?\n",
    "-Ans-- Bayes' theorem is mathematically represented as \\( P(A|B) = \\frac{P(B|A) \\times P(A)}{P(B)} \\), where:\n",
    "  - \\( P(A|B) \\) is the probability of event A given that event B has occurred.\n",
    "  - \\( P(B|A) \\) is the probability of event B given that event A has occurred.\n",
    "  - \\( P(A) \\) and \\( P(B) \\) are the probabilities of events A and B, respectively.\n",
    "\n",
    "### Q3. How is Bayes' theorem used in practice?\n",
    "-Ans-- Bayes' theorem is used in various fields such as statistics, machine learning, and medical diagnosis. It is employed to update probabilities based on new evidence or observations, making it a cornerstone of Bayesian inference and reasoning.\n",
    "\n",
    "### Q4. What is the relationship between Bayes' theorem and conditional probability?\n",
    "-Ans-- Bayes' theorem relates conditional probability to the inverse conditional probability. It provides a way to calculate one given the other, allowing us to update our beliefs or predictions based on new information or evidence.\n",
    "\n",
    "### Q5. How do you choose which type of Naive Bayes classifier to use for any given problem?\n",
    "-Ans-- The choice of the Naive Bayes classifier depends on the nature of the problem and the characteristics of the data. Common types include Gaussian Naive Bayes, Multinomial Naive Bayes, and Bernoulli Naive Bayes, each suited to different types of features and assumptions about the data distribution.\n",
    "\n",
    "### Q6. Assignment:\n",
    "-Ans-- Based on the provided dataset and assuming equal prior probabilities for each class, the Naive Bayes classifier would predict the new instance (X1 = 3, X2 = 4) to belong to Class A. This prediction is made by calculating the posterior probabilities for each class and selecting the one with the highest probability.\n"
   ]
  },
  {
   "cell_type": "code",
   "execution_count": null,
   "id": "08812f30-49e5-4a3f-8fec-a0865768508c",
   "metadata": {},
   "outputs": [],
   "source": []
  },
  {
   "cell_type": "code",
   "execution_count": null,
   "id": "c614d963-fe5e-4520-a5b7-c9ecd9658a41",
   "metadata": {},
   "outputs": [],
   "source": []
  }
 ],
 "metadata": {
  "kernelspec": {
   "display_name": "Python 3 (ipykernel)",
   "language": "python",
   "name": "python3"
  },
  "language_info": {
   "codemirror_mode": {
    "name": "ipython",
    "version": 3
   },
   "file_extension": ".py",
   "mimetype": "text/x-python",
   "name": "python",
   "nbconvert_exporter": "python",
   "pygments_lexer": "ipython3",
   "version": "3.10.8"
  }
 },
 "nbformat": 4,
 "nbformat_minor": 5
}
